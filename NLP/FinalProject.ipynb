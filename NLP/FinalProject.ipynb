{
  "cells": [
    {
      "cell_type": "markdown",
      "metadata": {
        "id": "view-in-github",
        "colab_type": "text"
      },
      "source": [
        "<a href=\"https://colab.research.google.com/github/Yuanxyyds/JSC270-NLPusingTwitterAPI/blob/main/FinalProject.ipynb\" target=\"_parent\"><img src=\"https://colab.research.google.com/assets/colab-badge.svg\" alt=\"Open In Colab\"/></a>"
      ]
    },
    {
      "cell_type": "markdown",
      "metadata": {
        "id": "yvKSg4aNVpHc"
      },
      "source": [
        "# **JSC270 Assignment 4 Natural Language Processing**\n",
        "### Authors: Steven Liu, William Zhang"
      ]
    },
    {
      "cell_type": "markdown",
      "metadata": {
        "id": "jGzl-dHGWjAc"
      },
      "source": [
        "## Part I: Sentiment Analysis with a Twitter Dataset"
      ]
    },
    {
      "cell_type": "code",
      "execution_count": null,
      "metadata": {
        "id": "rBiMDl6VVHZy"
      },
      "outputs": [],
      "source": [
        "## Importing\n",
        "import pandas as pd\n",
        "from google.colab import files\n",
        "import io\n",
        "import numpy as np\n",
        "import re\n"
      ]
    },
    {
      "cell_type": "code",
      "execution_count": null,
      "metadata": {
        "colab": {
          "base_uri": "https://localhost:8080/",
          "height": 396
        },
        "id": "2iP8AfBjQTgU",
        "outputId": "5e34ebb3-177d-41bb-efab-f8dee8bf7a16"
      },
      "outputs": [
        {
          "output_type": "display_data",
          "data": {
            "text/plain": [
              "<IPython.core.display.HTML object>"
            ],
            "text/html": [
              "\n",
              "     <input type=\"file\" id=\"files-922227ee-5e19-4aed-bc55-f001cbea15b1\" name=\"files[]\" multiple disabled\n",
              "        style=\"border:none\" />\n",
              "     <output id=\"result-922227ee-5e19-4aed-bc55-f001cbea15b1\">\n",
              "      Upload widget is only available when the cell has been executed in the\n",
              "      current browser session. Please rerun this cell to enable.\n",
              "      </output>\n",
              "      <script>// Copyright 2017 Google LLC\n",
              "//\n",
              "// Licensed under the Apache License, Version 2.0 (the \"License\");\n",
              "// you may not use this file except in compliance with the License.\n",
              "// You may obtain a copy of the License at\n",
              "//\n",
              "//      http://www.apache.org/licenses/LICENSE-2.0\n",
              "//\n",
              "// Unless required by applicable law or agreed to in writing, software\n",
              "// distributed under the License is distributed on an \"AS IS\" BASIS,\n",
              "// WITHOUT WARRANTIES OR CONDITIONS OF ANY KIND, either express or implied.\n",
              "// See the License for the specific language governing permissions and\n",
              "// limitations under the License.\n",
              "\n",
              "/**\n",
              " * @fileoverview Helpers for google.colab Python module.\n",
              " */\n",
              "(function(scope) {\n",
              "function span(text, styleAttributes = {}) {\n",
              "  const element = document.createElement('span');\n",
              "  element.textContent = text;\n",
              "  for (const key of Object.keys(styleAttributes)) {\n",
              "    element.style[key] = styleAttributes[key];\n",
              "  }\n",
              "  return element;\n",
              "}\n",
              "\n",
              "// Max number of bytes which will be uploaded at a time.\n",
              "const MAX_PAYLOAD_SIZE = 100 * 1024;\n",
              "\n",
              "function _uploadFiles(inputId, outputId) {\n",
              "  const steps = uploadFilesStep(inputId, outputId);\n",
              "  const outputElement = document.getElementById(outputId);\n",
              "  // Cache steps on the outputElement to make it available for the next call\n",
              "  // to uploadFilesContinue from Python.\n",
              "  outputElement.steps = steps;\n",
              "\n",
              "  return _uploadFilesContinue(outputId);\n",
              "}\n",
              "\n",
              "// This is roughly an async generator (not supported in the browser yet),\n",
              "// where there are multiple asynchronous steps and the Python side is going\n",
              "// to poll for completion of each step.\n",
              "// This uses a Promise to block the python side on completion of each step,\n",
              "// then passes the result of the previous step as the input to the next step.\n",
              "function _uploadFilesContinue(outputId) {\n",
              "  const outputElement = document.getElementById(outputId);\n",
              "  const steps = outputElement.steps;\n",
              "\n",
              "  const next = steps.next(outputElement.lastPromiseValue);\n",
              "  return Promise.resolve(next.value.promise).then((value) => {\n",
              "    // Cache the last promise value to make it available to the next\n",
              "    // step of the generator.\n",
              "    outputElement.lastPromiseValue = value;\n",
              "    return next.value.response;\n",
              "  });\n",
              "}\n",
              "\n",
              "/**\n",
              " * Generator function which is called between each async step of the upload\n",
              " * process.\n",
              " * @param {string} inputId Element ID of the input file picker element.\n",
              " * @param {string} outputId Element ID of the output display.\n",
              " * @return {!Iterable<!Object>} Iterable of next steps.\n",
              " */\n",
              "function* uploadFilesStep(inputId, outputId) {\n",
              "  const inputElement = document.getElementById(inputId);\n",
              "  inputElement.disabled = false;\n",
              "\n",
              "  const outputElement = document.getElementById(outputId);\n",
              "  outputElement.innerHTML = '';\n",
              "\n",
              "  const pickedPromise = new Promise((resolve) => {\n",
              "    inputElement.addEventListener('change', (e) => {\n",
              "      resolve(e.target.files);\n",
              "    });\n",
              "  });\n",
              "\n",
              "  const cancel = document.createElement('button');\n",
              "  inputElement.parentElement.appendChild(cancel);\n",
              "  cancel.textContent = 'Cancel upload';\n",
              "  const cancelPromise = new Promise((resolve) => {\n",
              "    cancel.onclick = () => {\n",
              "      resolve(null);\n",
              "    };\n",
              "  });\n",
              "\n",
              "  // Wait for the user to pick the files.\n",
              "  const files = yield {\n",
              "    promise: Promise.race([pickedPromise, cancelPromise]),\n",
              "    response: {\n",
              "      action: 'starting',\n",
              "    }\n",
              "  };\n",
              "\n",
              "  cancel.remove();\n",
              "\n",
              "  // Disable the input element since further picks are not allowed.\n",
              "  inputElement.disabled = true;\n",
              "\n",
              "  if (!files) {\n",
              "    return {\n",
              "      response: {\n",
              "        action: 'complete',\n",
              "      }\n",
              "    };\n",
              "  }\n",
              "\n",
              "  for (const file of files) {\n",
              "    const li = document.createElement('li');\n",
              "    li.append(span(file.name, {fontWeight: 'bold'}));\n",
              "    li.append(span(\n",
              "        `(${file.type || 'n/a'}) - ${file.size} bytes, ` +\n",
              "        `last modified: ${\n",
              "            file.lastModifiedDate ? file.lastModifiedDate.toLocaleDateString() :\n",
              "                                    'n/a'} - `));\n",
              "    const percent = span('0% done');\n",
              "    li.appendChild(percent);\n",
              "\n",
              "    outputElement.appendChild(li);\n",
              "\n",
              "    const fileDataPromise = new Promise((resolve) => {\n",
              "      const reader = new FileReader();\n",
              "      reader.onload = (e) => {\n",
              "        resolve(e.target.result);\n",
              "      };\n",
              "      reader.readAsArrayBuffer(file);\n",
              "    });\n",
              "    // Wait for the data to be ready.\n",
              "    let fileData = yield {\n",
              "      promise: fileDataPromise,\n",
              "      response: {\n",
              "        action: 'continue',\n",
              "      }\n",
              "    };\n",
              "\n",
              "    // Use a chunked sending to avoid message size limits. See b/62115660.\n",
              "    let position = 0;\n",
              "    do {\n",
              "      const length = Math.min(fileData.byteLength - position, MAX_PAYLOAD_SIZE);\n",
              "      const chunk = new Uint8Array(fileData, position, length);\n",
              "      position += length;\n",
              "\n",
              "      const base64 = btoa(String.fromCharCode.apply(null, chunk));\n",
              "      yield {\n",
              "        response: {\n",
              "          action: 'append',\n",
              "          file: file.name,\n",
              "          data: base64,\n",
              "        },\n",
              "      };\n",
              "\n",
              "      let percentDone = fileData.byteLength === 0 ?\n",
              "          100 :\n",
              "          Math.round((position / fileData.byteLength) * 100);\n",
              "      percent.textContent = `${percentDone}% done`;\n",
              "\n",
              "    } while (position < fileData.byteLength);\n",
              "  }\n",
              "\n",
              "  // All done.\n",
              "  yield {\n",
              "    response: {\n",
              "      action: 'complete',\n",
              "    }\n",
              "  };\n",
              "}\n",
              "\n",
              "scope.google = scope.google || {};\n",
              "scope.google.colab = scope.google.colab || {};\n",
              "scope.google.colab._files = {\n",
              "  _uploadFiles,\n",
              "  _uploadFilesContinue,\n",
              "};\n",
              "})(self);\n",
              "</script> "
            ]
          },
          "metadata": {}
        },
        {
          "output_type": "display_data",
          "data": {
            "text/plain": [
              "<IPython.core.display.HTML object>"
            ],
            "text/html": [
              "\n",
              "     <input type=\"file\" id=\"files-b416b68e-4015-4c16-b640-356c066adddc\" name=\"files[]\" multiple disabled\n",
              "        style=\"border:none\" />\n",
              "     <output id=\"result-b416b68e-4015-4c16-b640-356c066adddc\">\n",
              "      Upload widget is only available when the cell has been executed in the\n",
              "      current browser session. Please rerun this cell to enable.\n",
              "      </output>\n",
              "      <script>// Copyright 2017 Google LLC\n",
              "//\n",
              "// Licensed under the Apache License, Version 2.0 (the \"License\");\n",
              "// you may not use this file except in compliance with the License.\n",
              "// You may obtain a copy of the License at\n",
              "//\n",
              "//      http://www.apache.org/licenses/LICENSE-2.0\n",
              "//\n",
              "// Unless required by applicable law or agreed to in writing, software\n",
              "// distributed under the License is distributed on an \"AS IS\" BASIS,\n",
              "// WITHOUT WARRANTIES OR CONDITIONS OF ANY KIND, either express or implied.\n",
              "// See the License for the specific language governing permissions and\n",
              "// limitations under the License.\n",
              "\n",
              "/**\n",
              " * @fileoverview Helpers for google.colab Python module.\n",
              " */\n",
              "(function(scope) {\n",
              "function span(text, styleAttributes = {}) {\n",
              "  const element = document.createElement('span');\n",
              "  element.textContent = text;\n",
              "  for (const key of Object.keys(styleAttributes)) {\n",
              "    element.style[key] = styleAttributes[key];\n",
              "  }\n",
              "  return element;\n",
              "}\n",
              "\n",
              "// Max number of bytes which will be uploaded at a time.\n",
              "const MAX_PAYLOAD_SIZE = 100 * 1024;\n",
              "\n",
              "function _uploadFiles(inputId, outputId) {\n",
              "  const steps = uploadFilesStep(inputId, outputId);\n",
              "  const outputElement = document.getElementById(outputId);\n",
              "  // Cache steps on the outputElement to make it available for the next call\n",
              "  // to uploadFilesContinue from Python.\n",
              "  outputElement.steps = steps;\n",
              "\n",
              "  return _uploadFilesContinue(outputId);\n",
              "}\n",
              "\n",
              "// This is roughly an async generator (not supported in the browser yet),\n",
              "// where there are multiple asynchronous steps and the Python side is going\n",
              "// to poll for completion of each step.\n",
              "// This uses a Promise to block the python side on completion of each step,\n",
              "// then passes the result of the previous step as the input to the next step.\n",
              "function _uploadFilesContinue(outputId) {\n",
              "  const outputElement = document.getElementById(outputId);\n",
              "  const steps = outputElement.steps;\n",
              "\n",
              "  const next = steps.next(outputElement.lastPromiseValue);\n",
              "  return Promise.resolve(next.value.promise).then((value) => {\n",
              "    // Cache the last promise value to make it available to the next\n",
              "    // step of the generator.\n",
              "    outputElement.lastPromiseValue = value;\n",
              "    return next.value.response;\n",
              "  });\n",
              "}\n",
              "\n",
              "/**\n",
              " * Generator function which is called between each async step of the upload\n",
              " * process.\n",
              " * @param {string} inputId Element ID of the input file picker element.\n",
              " * @param {string} outputId Element ID of the output display.\n",
              " * @return {!Iterable<!Object>} Iterable of next steps.\n",
              " */\n",
              "function* uploadFilesStep(inputId, outputId) {\n",
              "  const inputElement = document.getElementById(inputId);\n",
              "  inputElement.disabled = false;\n",
              "\n",
              "  const outputElement = document.getElementById(outputId);\n",
              "  outputElement.innerHTML = '';\n",
              "\n",
              "  const pickedPromise = new Promise((resolve) => {\n",
              "    inputElement.addEventListener('change', (e) => {\n",
              "      resolve(e.target.files);\n",
              "    });\n",
              "  });\n",
              "\n",
              "  const cancel = document.createElement('button');\n",
              "  inputElement.parentElement.appendChild(cancel);\n",
              "  cancel.textContent = 'Cancel upload';\n",
              "  const cancelPromise = new Promise((resolve) => {\n",
              "    cancel.onclick = () => {\n",
              "      resolve(null);\n",
              "    };\n",
              "  });\n",
              "\n",
              "  // Wait for the user to pick the files.\n",
              "  const files = yield {\n",
              "    promise: Promise.race([pickedPromise, cancelPromise]),\n",
              "    response: {\n",
              "      action: 'starting',\n",
              "    }\n",
              "  };\n",
              "\n",
              "  cancel.remove();\n",
              "\n",
              "  // Disable the input element since further picks are not allowed.\n",
              "  inputElement.disabled = true;\n",
              "\n",
              "  if (!files) {\n",
              "    return {\n",
              "      response: {\n",
              "        action: 'complete',\n",
              "      }\n",
              "    };\n",
              "  }\n",
              "\n",
              "  for (const file of files) {\n",
              "    const li = document.createElement('li');\n",
              "    li.append(span(file.name, {fontWeight: 'bold'}));\n",
              "    li.append(span(\n",
              "        `(${file.type || 'n/a'}) - ${file.size} bytes, ` +\n",
              "        `last modified: ${\n",
              "            file.lastModifiedDate ? file.lastModifiedDate.toLocaleDateString() :\n",
              "                                    'n/a'} - `));\n",
              "    const percent = span('0% done');\n",
              "    li.appendChild(percent);\n",
              "\n",
              "    outputElement.appendChild(li);\n",
              "\n",
              "    const fileDataPromise = new Promise((resolve) => {\n",
              "      const reader = new FileReader();\n",
              "      reader.onload = (e) => {\n",
              "        resolve(e.target.result);\n",
              "      };\n",
              "      reader.readAsArrayBuffer(file);\n",
              "    });\n",
              "    // Wait for the data to be ready.\n",
              "    let fileData = yield {\n",
              "      promise: fileDataPromise,\n",
              "      response: {\n",
              "        action: 'continue',\n",
              "      }\n",
              "    };\n",
              "\n",
              "    // Use a chunked sending to avoid message size limits. See b/62115660.\n",
              "    let position = 0;\n",
              "    do {\n",
              "      const length = Math.min(fileData.byteLength - position, MAX_PAYLOAD_SIZE);\n",
              "      const chunk = new Uint8Array(fileData, position, length);\n",
              "      position += length;\n",
              "\n",
              "      const base64 = btoa(String.fromCharCode.apply(null, chunk));\n",
              "      yield {\n",
              "        response: {\n",
              "          action: 'append',\n",
              "          file: file.name,\n",
              "          data: base64,\n",
              "        },\n",
              "      };\n",
              "\n",
              "      let percentDone = fileData.byteLength === 0 ?\n",
              "          100 :\n",
              "          Math.round((position / fileData.byteLength) * 100);\n",
              "      percent.textContent = `${percentDone}% done`;\n",
              "\n",
              "    } while (position < fileData.byteLength);\n",
              "  }\n",
              "\n",
              "  // All done.\n",
              "  yield {\n",
              "    response: {\n",
              "      action: 'complete',\n",
              "    }\n",
              "  };\n",
              "}\n",
              "\n",
              "scope.google = scope.google || {};\n",
              "scope.google.colab = scope.google.colab || {};\n",
              "scope.google.colab._files = {\n",
              "  _uploadFiles,\n",
              "  _uploadFilesContinue,\n",
              "};\n",
              "})(self);\n",
              "</script> "
            ]
          },
          "metadata": {}
        },
        {
          "output_type": "error",
          "ename": "KeyboardInterrupt",
          "evalue": "ignored",
          "traceback": [
            "\u001b[0;31m---------------------------------------------------------------------------\u001b[0m",
            "\u001b[0;31mKeyboardInterrupt\u001b[0m                         Traceback (most recent call last)",
            "\u001b[0;32m<ipython-input-3-33a600ce44ae>\u001b[0m in \u001b[0;36m<module>\u001b[0;34m\u001b[0m\n\u001b[1;32m      1\u001b[0m \u001b[0;31m## file uploading\u001b[0m\u001b[0;34m\u001b[0m\u001b[0;34m\u001b[0m\u001b[0;34m\u001b[0m\u001b[0m\n\u001b[1;32m      2\u001b[0m \u001b[0mtest_file\u001b[0m \u001b[0;34m=\u001b[0m \u001b[0mfiles\u001b[0m\u001b[0;34m.\u001b[0m\u001b[0mupload\u001b[0m\u001b[0;34m(\u001b[0m\u001b[0;34m)\u001b[0m\u001b[0;34m\u001b[0m\u001b[0;34m\u001b[0m\u001b[0m\n\u001b[0;32m----> 3\u001b[0;31m \u001b[0mtrain_file\u001b[0m \u001b[0;34m=\u001b[0m \u001b[0mfiles\u001b[0m\u001b[0;34m.\u001b[0m\u001b[0mupload\u001b[0m\u001b[0;34m(\u001b[0m\u001b[0;34m)\u001b[0m\u001b[0;34m\u001b[0m\u001b[0;34m\u001b[0m\u001b[0m\n\u001b[0m",
            "\u001b[0;32m/usr/local/lib/python3.7/dist-packages/google/colab/files.py\u001b[0m in \u001b[0;36mupload\u001b[0;34m()\u001b[0m\n\u001b[1;32m     40\u001b[0m   \"\"\"\n\u001b[1;32m     41\u001b[0m \u001b[0;34m\u001b[0m\u001b[0m\n\u001b[0;32m---> 42\u001b[0;31m   \u001b[0muploaded_files\u001b[0m \u001b[0;34m=\u001b[0m \u001b[0m_upload_files\u001b[0m\u001b[0;34m(\u001b[0m\u001b[0mmultiple\u001b[0m\u001b[0;34m=\u001b[0m\u001b[0;32mTrue\u001b[0m\u001b[0;34m)\u001b[0m\u001b[0;34m\u001b[0m\u001b[0;34m\u001b[0m\u001b[0m\n\u001b[0m\u001b[1;32m     43\u001b[0m   \u001b[0;31m# Mapping from original filename to filename as saved locally.\u001b[0m\u001b[0;34m\u001b[0m\u001b[0;34m\u001b[0m\u001b[0;34m\u001b[0m\u001b[0m\n\u001b[1;32m     44\u001b[0m   \u001b[0mlocal_filenames\u001b[0m \u001b[0;34m=\u001b[0m \u001b[0mdict\u001b[0m\u001b[0;34m(\u001b[0m\u001b[0;34m)\u001b[0m\u001b[0;34m\u001b[0m\u001b[0;34m\u001b[0m\u001b[0m\n",
            "\u001b[0;32m/usr/local/lib/python3.7/dist-packages/google/colab/files.py\u001b[0m in \u001b[0;36m_upload_files\u001b[0;34m(multiple)\u001b[0m\n\u001b[1;32m    119\u001b[0m   result = _output.eval_js(\n\u001b[1;32m    120\u001b[0m       'google.colab._files._uploadFiles(\"{input_id}\", \"{output_id}\")'.format(\n\u001b[0;32m--> 121\u001b[0;31m           input_id=input_id, output_id=output_id))\n\u001b[0m\u001b[1;32m    122\u001b[0m   \u001b[0mfiles\u001b[0m \u001b[0;34m=\u001b[0m \u001b[0m_collections\u001b[0m\u001b[0;34m.\u001b[0m\u001b[0mdefaultdict\u001b[0m\u001b[0;34m(\u001b[0m\u001b[0mbytes\u001b[0m\u001b[0;34m)\u001b[0m\u001b[0;34m\u001b[0m\u001b[0;34m\u001b[0m\u001b[0m\n\u001b[1;32m    123\u001b[0m \u001b[0;34m\u001b[0m\u001b[0m\n",
            "\u001b[0;32m/usr/local/lib/python3.7/dist-packages/google/colab/output/_js.py\u001b[0m in \u001b[0;36meval_js\u001b[0;34m(script, ignore_result, timeout_sec)\u001b[0m\n\u001b[1;32m     38\u001b[0m   \u001b[0;32mif\u001b[0m \u001b[0mignore_result\u001b[0m\u001b[0;34m:\u001b[0m\u001b[0;34m\u001b[0m\u001b[0;34m\u001b[0m\u001b[0m\n\u001b[1;32m     39\u001b[0m     \u001b[0;32mreturn\u001b[0m\u001b[0;34m\u001b[0m\u001b[0;34m\u001b[0m\u001b[0m\n\u001b[0;32m---> 40\u001b[0;31m   \u001b[0;32mreturn\u001b[0m \u001b[0m_message\u001b[0m\u001b[0;34m.\u001b[0m\u001b[0mread_reply_from_input\u001b[0m\u001b[0;34m(\u001b[0m\u001b[0mrequest_id\u001b[0m\u001b[0;34m,\u001b[0m \u001b[0mtimeout_sec\u001b[0m\u001b[0;34m)\u001b[0m\u001b[0;34m\u001b[0m\u001b[0;34m\u001b[0m\u001b[0m\n\u001b[0m\u001b[1;32m     41\u001b[0m \u001b[0;34m\u001b[0m\u001b[0m\n\u001b[1;32m     42\u001b[0m \u001b[0;34m\u001b[0m\u001b[0m\n",
            "\u001b[0;32m/usr/local/lib/python3.7/dist-packages/google/colab/_message.py\u001b[0m in \u001b[0;36mread_reply_from_input\u001b[0;34m(message_id, timeout_sec)\u001b[0m\n\u001b[1;32m     95\u001b[0m     \u001b[0mreply\u001b[0m \u001b[0;34m=\u001b[0m \u001b[0m_read_next_input_message\u001b[0m\u001b[0;34m(\u001b[0m\u001b[0;34m)\u001b[0m\u001b[0;34m\u001b[0m\u001b[0;34m\u001b[0m\u001b[0m\n\u001b[1;32m     96\u001b[0m     \u001b[0;32mif\u001b[0m \u001b[0mreply\u001b[0m \u001b[0;34m==\u001b[0m \u001b[0m_NOT_READY\u001b[0m \u001b[0;32mor\u001b[0m \u001b[0;32mnot\u001b[0m \u001b[0misinstance\u001b[0m\u001b[0;34m(\u001b[0m\u001b[0mreply\u001b[0m\u001b[0;34m,\u001b[0m \u001b[0mdict\u001b[0m\u001b[0;34m)\u001b[0m\u001b[0;34m:\u001b[0m\u001b[0;34m\u001b[0m\u001b[0;34m\u001b[0m\u001b[0m\n\u001b[0;32m---> 97\u001b[0;31m       \u001b[0mtime\u001b[0m\u001b[0;34m.\u001b[0m\u001b[0msleep\u001b[0m\u001b[0;34m(\u001b[0m\u001b[0;36m0.025\u001b[0m\u001b[0;34m)\u001b[0m\u001b[0;34m\u001b[0m\u001b[0;34m\u001b[0m\u001b[0m\n\u001b[0m\u001b[1;32m     98\u001b[0m       \u001b[0;32mcontinue\u001b[0m\u001b[0;34m\u001b[0m\u001b[0;34m\u001b[0m\u001b[0m\n\u001b[1;32m     99\u001b[0m     if (reply.get('type') == 'colab_reply' and\n",
            "\u001b[0;31mKeyboardInterrupt\u001b[0m: "
          ]
        }
      ],
      "source": [
        "## file uploading\n",
        "test_file = files.upload()\n",
        "train_file = files.upload()"
      ]
    },
    {
      "cell_type": "code",
      "source": [
        "test_data = pd.read_csv(io.BytesIO(test_file['covid-tweets-test.csv']), sep = ',')\n",
        "train_data = pd.read_csv(io.BytesIO(train_file['covid-tweets-train.csv']), sep = ',')\n",
        "del test_data['Unnamed: 0']\n",
        "del train_data['Unnamed: 0']"
      ],
      "metadata": {
        "id": "CiDwxjXSxUt5"
      },
      "execution_count": null,
      "outputs": []
    },
    {
      "cell_type": "code",
      "execution_count": null,
      "metadata": {
        "id": "Yy6VQe1kW_5L"
      },
      "outputs": [],
      "source": [
        "train_data = train_data.dropna()\n",
        "test_data = test_data.dropna()\n",
        "test_data = test_data[test_data['Sentiment'].isin(['0','1','2', 0, 1, 2])]\n",
        "test_data['Sentiment'] = test_data['Sentiment'].astype('int64')\n",
        "train_data = train_data[train_data['Sentiment'].isin(['0','1','2', 0, 1, 2])]\n",
        "train_data['Sentiment'] = train_data['Sentiment'].astype('int64')"
      ]
    },
    {
      "cell_type": "markdown",
      "metadata": {
        "id": "3Kj38AGEV-Dg"
      },
      "source": [
        "A) (1 pt) Consider the training data. What is the balance between the three classes? In other words, what proportion of the observations (in the training set) belong to each class?"
      ]
    },
    {
      "cell_type": "code",
      "execution_count": null,
      "metadata": {
        "id": "bbQKgz-fQwfr"
      },
      "outputs": [],
      "source": [
        "proportion = [train_data[train_data['Sentiment'] == 0].shape[0]/train_data.shape[0],\n",
        "     train_data[train_data['Sentiment'] == 1].shape[0]/train_data.shape[0], \n",
        "     train_data[train_data['Sentiment'] == 2].shape[0]/train_data.shape[0]]\n",
        "proportion"
      ]
    },
    {
      "cell_type": "markdown",
      "metadata": {
        "id": "fLiGNhU6WrKI"
      },
      "source": [
        "B) (1 pt) Tokenize the tweets. In other words, for each observation, convert the tweet from a single string of running text into a list of individual tokens (possibly with punctuation), splitting on whitespace. The result should be that each observation (tweet) is a list of individual tokens."
      ]
    },
    {
      "cell_type": "code",
      "execution_count": null,
      "metadata": {
        "id": "-cEnE7pGTkJ1"
      },
      "outputs": [],
      "source": [
        "## Tokenization\n",
        "tokens_test = []\n",
        "tokens_train = []\n",
        "for row in train_data['OriginalTweet']:\n",
        "  tokens_train.append(row.split())\n",
        "for row in test_data['OriginalTweet']:\n",
        "  tokens_test.append(row.split())\n",
        "\n",
        "train_data['tokens'] = tokens_train\n",
        "test_data['tokens'] = tokens_test\n",
        "print(train_data['tokens'].head(5))"
      ]
    },
    {
      "cell_type": "markdown",
      "metadata": {
        "id": "Jy2TlmldXmUx"
      },
      "source": [
        "C) (1 pt) Using a regular expression, remove any URL tokens from each of the observations. \n",
        "Hint: In this dataset, all such tokens begin with “http”.\n"
      ]
    },
    {
      "cell_type": "code",
      "execution_count": null,
      "metadata": {
        "id": "yLRSLAewY41n"
      },
      "outputs": [],
      "source": [
        "import re\n",
        "# Same process as before\n",
        "tokens_no_URL = []\n",
        "# Create a list of lists with what we want\n",
        "for row in train_data['tokens']:\n",
        "  tokens_no_URL.append([t for t in row if re.sub('http.+','', t) != ''])\n",
        "# add the new info to our df\n",
        "train_data['tokens_no_URL'] = tokens_no_URL\n",
        "\n",
        "# Same process as before\n",
        "tokens_no_URL_test = []\n",
        "# Create a list of lists with what we want\n",
        "for row in test_data['tokens']:\n",
        "  tokens_no_URL_test.append([t for t in row if re.sub('http.+','', t) != ''])\n",
        "# add the new info to our df\n",
        "test_data['tokens_no_URL'] = tokens_no_URL_test\n",
        "\n",
        "print(train_data['tokens_no_URL'].head(5))"
      ]
    },
    {
      "cell_type": "markdown",
      "metadata": {
        "id": "ad3KCuw0cH9U"
      },
      "source": [
        "D) (2 pts) Remove all punctuation (,.?!;:’\") and special characters(@, #, +, &, =, $, etc). Also, convert all tokens to lowercase only. Can you think of a scenario when you might want to keep some forms of punctuation?"
      ]
    },
    {
      "cell_type": "code",
      "execution_count": null,
      "metadata": {
        "id": "Ank0BHVhcLQk"
      },
      "outputs": [],
      "source": [
        "import re\n",
        "# Same process as before\n",
        "tokens_final = []\n",
        "# Create a list of lists with what we want\n",
        "for row in train_data['tokens_no_URL']:\n",
        "  tokens_final.append([re.sub('\\W','', t).lower() for t in row if re.sub('\\W','', t) != ''])\n",
        "# add the new info to our df\n",
        "train_data['tokens_final'] = tokens_final\n",
        "\n",
        "# Same process as before\n",
        "tokens_final_test = []\n",
        "# Create a list of lists with what we want\n",
        "for row in test_data['tokens_no_URL']:\n",
        "  tokens_final_test.append([re.sub('\\W','', t).lower() for t in row if re.sub('\\W','', t) != ''])\n",
        "# add the new info to our df\n",
        "test_data['tokens_final'] = tokens_final_test\n",
        "\n",
        "print(train_data['tokens_final'].head(5))"
      ]
    },
    {
      "cell_type": "markdown",
      "metadata": {
        "id": "Bb9GfIkurAFO"
      },
      "source": [
        "E) (1pt) Now stem your tokens. This will have the effect of converting similar word forms into identical tokens (e.g. run, runs, running → run). Please specify which stemmer you use. \n",
        "\n",
        "Note: There are several different stemmers available through nltk and Scikit-learn. I recommend the Porter stemmer, but you may use a different one if you wish."
      ]
    },
    {
      "cell_type": "code",
      "execution_count": null,
      "metadata": {
        "id": "UqAP-zfScE9V"
      },
      "outputs": [],
      "source": [
        "from nltk.stem.porter import *\n",
        "stemmer = PorterStemmer()\n",
        "tokens_stem = []\n",
        "# Create a list of lists with what we want\n",
        "for row in train_data['tokens_final']:\n",
        "  tokens_stem.append([stemmer.stem(t) for t in row])\n",
        "# add the new info to our df\n",
        "train_data['tokens_stem'] = tokens_stem\n",
        "\n",
        "# Same process as before\n",
        "tokens_stem_test = []\n",
        "# Create a list of lists with what we want\n",
        "for row in test_data['tokens_final']:\n",
        "  tokens_stem_test.append([stemmer.stem(t) for t in row])\n",
        "# add the new info to our df\n",
        "test_data['tokens_stem'] = tokens_stem_test\n",
        "\n",
        "print(train_data['tokens_stem'].head(5))"
      ]
    },
    {
      "cell_type": "markdown",
      "metadata": {
        "id": "RGjinlqOstJW"
      },
      "source": [
        "F) (1pt) Lastly, remove stopwords. Using the english stopwords list from nltk, remove these common words from your observations. This list is very long (I think almost 200 words), so remove only the first 100 stopwords in the list.\n",
        "\n",
        "Hint: The matrix of counts will be D × V , where D is the number of documents (tweets), and V is the number of features (word counts)."
      ]
    },
    {
      "cell_type": "code",
      "execution_count": null,
      "metadata": {
        "id": "gQ_4FXJqsuSu"
      },
      "outputs": [],
      "source": [
        "import nltk\n",
        "from nltk.corpus import stopwords\n",
        "nltk.download('stopwords')\n",
        "sw = stopwords.words('english')[:100]\n",
        "\n",
        "tokens_stop = []\n",
        "# Create a list of lists with what we want\n",
        "for row in train_data['tokens_stem']:\n",
        "  tokens_stop.append([t for t in row if t not in sw])\n",
        "# add the new info to our df\n",
        "train_data['tokens_stop'] = tokens_stop\n",
        "\n",
        "# Same process as before\n",
        "tokens_stop_test = []\n",
        "# Create a list of lists with what we want\n",
        "for row in test_data['tokens_stem']:\n",
        "  tokens_stop_test.append([t for t in row if t not in sw])\n",
        "# add the new info to our df\n",
        "test_data['tokens_stop'] = tokens_stop_test\n",
        "\n",
        "print(train_data['tokens_stop'].head(5))\n",
        "\n"
      ]
    },
    {
      "cell_type": "markdown",
      "metadata": {
        "id": "IdusdbNFuUT_"
      },
      "source": [
        "G) (2 pts) Now convert your lists of words into vectors of word counts. You may find Scikit-learn’s CountVectorizer useful here. What is the length of your vocabulary? \n"
      ]
    },
    {
      "cell_type": "code",
      "execution_count": null,
      "metadata": {
        "id": "i2KKKyrKxO7H"
      },
      "outputs": [],
      "source": [
        "from sklearn.feature_extraction.text import CountVectorizer\n",
        "\n",
        "# Separate labels from features, converting to numpy arrays\n",
        "X_train, y_train = train_data['tokens_stop'].to_numpy(), train_data['Sentiment'].to_numpy()\n",
        "X_test, y_test = test_data['tokens_stop'].to_numpy(), test_data['Sentiment'].to_numpy()\n",
        "def override_fcn(doc):\n",
        "  # We expect a list of tokens as input\n",
        "  return doc\n",
        "\n",
        "# Count Vectorizer\n",
        "count_vec = CountVectorizer(\n",
        "    analyzer='word',\n",
        "    tokenizer= override_fcn,\n",
        "    preprocessor= override_fcn,\n",
        "    token_pattern= None)\n",
        "\n",
        "count_vec.fit_transform(X_train)\n",
        "# Print number of vocab\n",
        "print(len(count_vec.get_feature_names()))\n",
        "# Choose top 1000 vocab\n",
        "count_vec.max_features = 1000\n",
        "counts_train = count_vec.fit_transform(X_train)\n",
        "counts_test = count_vec.transform(X_test)\n",
        "print(counts_train.toarray())\n"
      ]
    },
    {
      "cell_type": "markdown",
      "metadata": {
        "id": "2Tc29hh19JPm"
      },
      "source": [
        "H) (4 pts) Fit a Naive Bayes model to your data. Report the training and test error of the model. Use accuracy as the error metric. Also, report the 5 most probable words in each class, along with their counts. You might find Scikit-learn’s MultinomialNB() transformer useful. Use Laplace smoothing to prevent probabilities of zero.\n",
        "\n",
        "\n",
        "\n"
      ]
    },
    {
      "cell_type": "code",
      "execution_count": null,
      "metadata": {
        "id": "2N1PGb0R-pyM"
      },
      "outputs": [],
      "source": [
        "from sklearn.naive_bayes import MultinomialNB\n",
        "from sklearn.metrics import accuracy_score, roc_curve\n",
        "import matplotlib.pyplot as plt\n",
        "\n",
        "# Let's fit the Naive Bayes model to our training data\n",
        "nb = MultinomialNB(alpha = 1)\n",
        "# Fit model to training data\n",
        "nb.fit(counts_train, y_train)\n",
        "\n",
        "train_preds = nb.predict(counts_train)\n",
        "print(\"Train Accuracy:\", accuracy_score(y_train, train_preds))\n",
        "\n",
        "test_preds = nb.predict(counts_test)\n",
        "print(\"Test Accuracy:\", accuracy_score(y_test, test_preds))\n",
        "\n",
        "df = pd.DataFrame()\n",
        "df['index 0'] = nb.feature_count_[0]\n",
        "df['index 1'] = nb.feature_count_[1]\n",
        "df['index 2'] = nb.feature_count_[2]\n",
        "print(\"TOP 5 words for Class 0:\", [count_vec.get_feature_names_out()[index]\n",
        "       for index in df['index 0'].nlargest(5).index], \"\\n With count:\", \n",
        "        [int(count) for count in df['index 0'].nlargest(5)])\n",
        "print(\"TOP 5 words for Class 1:\", [count_vec.get_feature_names_out()[index] \n",
        "       for index in df['index 1'].nlargest(5).index], \"\\n With count:\", \n",
        "        [int(count) for count in df['index 1'].nlargest(5)])\n",
        "print(\"TOP 5 words for Class 2:\", [count_vec.get_feature_names_out()[index] \n",
        "       for index in df['index 2'].nlargest(5).index], \"\\n With count:\", \n",
        "        [int(count) for count in df['index 2'].nlargest(5)])"
      ]
    },
    {
      "cell_type": "markdown",
      "metadata": {
        "id": "5qoRUNYovBxY"
      },
      "source": [
        "J) (2 pts) Redo parts G-H using TF-IDF vectors instead of count vectors. You might find Scikitlearn’s TfidfVectorizer() transformer useful. Report the training and test accuracy. How does this compare to the accuracy using count vectors?  "
      ]
    },
    {
      "cell_type": "code",
      "execution_count": null,
      "metadata": {
        "id": "XfPUC09xvA-y"
      },
      "outputs": [],
      "source": [
        "from sklearn.feature_extraction.text import TfidfTransformer\n",
        "tfidf = TfidfTransformer()\n",
        "\n",
        "tf_train = tfidf.fit_transform(counts_train)\n",
        "tf_test = tfidf.transform(counts_test)\n",
        "\n",
        "nb2 = MultinomialNB(alpha = 1)\n",
        "nb2.fit(tf_train, y_train)\n",
        "\n",
        "train_preds2 = nb2.predict(tf_train)\n",
        "print(\"Train Accuracy:\", accuracy_score(y_train, train_preds2))\n",
        "\n",
        "test_preds2 = nb2.predict(tf_test)\n",
        "print(\"Test Accuracy:\", accuracy_score(y_test, test_preds2))\n",
        "\n"
      ]
    },
    {
      "cell_type": "markdown",
      "metadata": {
        "id": "WEXmxWGPwx4g"
      },
      "source": [
        "K) (3 pts) Recall lemmatization converts each word to its base form, which is a bit stronger than simply taking the stem. Redo parts E-H using TF-IDF vectors instead of count vectors. This time use lemmatization instead of stemming. Report train and test accuracy. How does the accuracy with lemmatization compare to the accuracy with stemming? \n",
        "\n",
        "Note: Like stemmers, there are multiple lemmatizers you might use. We recommend the WordNet lemmatizer offered by nltk."
      ]
    },
    {
      "cell_type": "code",
      "execution_count": null,
      "metadata": {
        "id": "0LtOoBStw0BO"
      },
      "outputs": [],
      "source": [
        "from nltk.stem.wordnet import WordNetLemmatizer\n",
        "nltk.download('wordnet')\n",
        "lemmatizer = WordNetLemmatizer()\n",
        "\n",
        "tokens_lem = []\n",
        "# Create a list of lists with what we want\n",
        "for row in train_data['tokens_final']:\n",
        "  tokens_lem.append([lemmatizer.lemmatize(t) for t in row])\n",
        "# add the new info to our df\n",
        "train_data['tokens_lem'] = tokens_lem\n",
        "\n",
        "# Same process as before\n",
        "tokens_lem_test = []\n",
        "# Create a list of lists with what we want\n",
        "for row in test_data['tokens_final']:\n",
        "  tokens_lem_test.append([lemmatizer.lemmatize(t) for t in row])\n",
        "# add the new info to our df\n",
        "test_data['tokens_lem'] = tokens_lem_test\n"
      ]
    },
    {
      "cell_type": "code",
      "execution_count": null,
      "metadata": {
        "id": "6L5Gi0HP1w3b"
      },
      "outputs": [],
      "source": [
        "# stop word removal\n",
        "nltk.download('stopwords')\n",
        "sw = stopwords.words('english')[:100]\n",
        "\n",
        "tokens_stop2 = []\n",
        "# Create a list of lists with what we want\n",
        "for row in train_data['tokens_lem']:\n",
        "  tokens_stop2.append([t for t in row if t not in sw])\n",
        "# add the new info to our df\n",
        "train_data['tokens_stop2'] = tokens_stop2\n",
        "\n",
        "# Same process as before\n",
        "tokens_stop2_test = []\n",
        "# Create a list of lists with what we want\n",
        "for row in test_data['tokens_lem']:\n",
        "  tokens_stop2_test.append([t for t in row if t not in sw])\n",
        "# add the new info to our df\n",
        "test_data['tokens_stop2'] = tokens_stop2_test\n"
      ]
    },
    {
      "cell_type": "code",
      "execution_count": null,
      "metadata": {
        "id": "ytO6wuE12GrW"
      },
      "outputs": [],
      "source": [
        "# count vector and TF-IDF\n",
        "X_train2 = train_data['tokens_stop2'].to_numpy()\n",
        "X_test2 = test_data['tokens_stop2'].to_numpy()\n",
        "def override_fcn(doc):\n",
        "  # We expect a list of tokens as input\n",
        "  return doc\n",
        "\n",
        "# Count Vectorizer\n",
        "count_vec2 = CountVectorizer(\n",
        "    analyzer='word',\n",
        "    tokenizer= override_fcn,\n",
        "    preprocessor= override_fcn,\n",
        "    token_pattern= None,\n",
        "    max_features=1000)\n",
        "\n",
        "counts_train2 = count_vec2.fit_transform(X_train2)\n",
        "counts_test2 = count_vec2.transform(X_test2)\n",
        "\n",
        "tfidf2 = TfidfTransformer()\n",
        "\n",
        "tf_train2 = tfidf2.fit_transform(counts_train2)\n",
        "tf_test2 = tfidf2.transform(counts_test2)\n",
        "\n",
        "nb3 = MultinomialNB(alpha = 1)\n",
        "nb3.fit(tf_train2, y_train)\n",
        "\n",
        "train_preds3 = nb3.predict(tf_train2)\n",
        "print(\"Train Accuracy:\", accuracy_score(y_train, train_preds3))\n",
        "\n",
        "test_preds3 = nb3.predict(tf_test2)\n",
        "print(\"Test Accuracy:\", accuracy_score(y_test, test_preds3))\n"
      ]
    },
    {
      "cell_type": "markdown",
      "metadata": {
        "id": "s2nran0pCaXY"
      },
      "source": [
        "# Part II: Having fun with NLP using the Twitter API"
      ]
    },
    {
      "cell_type": "markdown",
      "source": [
        "Collecting Data From API and Upload the Data"
      ],
      "metadata": {
        "id": "dYRF3pW8zIpu"
      }
    },
    {
      "cell_type": "code",
      "execution_count": null,
      "metadata": {
        "id": "JxmvDok2CfpA"
      },
      "outputs": [],
      "source": [
        "# Import credentials\n",
        "import tweepy as tw\n",
        "\n",
        "api_key = \"RBDz9JcZjAi96Wc082N1NajYE\"\n",
        "api_secret_key = \"XVWcGoMzMYuWwiKhM6rvcNxoxqYL9I1gM701HGf2nPbbK5UgC6\"\n",
        "\n",
        "access_key = \"1501641682428772361-jcuLkPme2JShF2Pm6KWdctgvCzeery\"\n",
        "access_secret = \"N1jTXhDifHGbnWIFyh9xpYivAFL0aJwylIVDvdUcWupZX\"\n",
        "# Use credentials to authorize access\n",
        "auth = tw.OAuthHandler(api_key, api_secret_key)\n",
        "auth.set_access_token(access_key, access_secret)\n",
        "api = tw.API(auth, wait_on_rate_limit=True) "
      ]
    },
    {
      "cell_type": "code",
      "execution_count": null,
      "metadata": {
        "id": "bCi1f6rwCmbO"
      },
      "outputs": [],
      "source": [
        "search_words = 'CSGO update' + \" -filter:retweets\"\n",
        "date_since = \"2022-05-05\"\n",
        "\n",
        "tweets = tw.Cursor(api.search,\n",
        "              q=search_words,\n",
        "              lang=\"en\",\n",
        "              since=date_since,\n",
        "              tweet_mode=\"extended\").items(200)\n",
        "\n",
        "a = [tweet.full_text for tweet in tweets]"
      ]
    },
    {
      "cell_type": "code",
      "source": [
        "a"
      ],
      "metadata": {
        "id": "H8hIvG6dJgyy"
      },
      "execution_count": null,
      "outputs": []
    },
    {
      "cell_type": "code",
      "source": [
        "search_words2 = 'ClashRoyale balance' + \" -filter:retweets\"\n",
        "date_since = \"2022-03-20\"\n",
        "\n",
        "tweets2 = tw.Cursor(api.search,\n",
        "              q=search_words2,\n",
        "              lang=\"en\",\n",
        "              since=date_since,\n",
        "              tweet_mode=\"extended\").items(1000)\n",
        "\n",
        "b = [tweet.full_text for tweet in tweets2]"
      ],
      "metadata": {
        "id": "9h10-_1cqM9o"
      },
      "execution_count": null,
      "outputs": []
    },
    {
      "cell_type": "code",
      "source": [
        "## file uploading\n",
        "cr_file = files.upload()\n",
        "\n"
      ],
      "metadata": {
        "id": "Qe7-KSf3YC97",
        "outputId": "a3d46c71-e2f4-4934-c141-ff340341c55b",
        "colab": {
          "base_uri": "https://localhost:8080/",
          "height": 204
        }
      },
      "execution_count": null,
      "outputs": [
        {
          "output_type": "error",
          "ename": "NameError",
          "evalue": "ignored",
          "traceback": [
            "\u001b[0;31m---------------------------------------------------------------------------\u001b[0m",
            "\u001b[0;31mNameError\u001b[0m                                 Traceback (most recent call last)",
            "\u001b[0;32m<ipython-input-4-69aa3f7b3d35>\u001b[0m in \u001b[0;36m<module>\u001b[0;34m\u001b[0m\n\u001b[1;32m      1\u001b[0m \u001b[0;31m## file uploading\u001b[0m\u001b[0;34m\u001b[0m\u001b[0;34m\u001b[0m\u001b[0;34m\u001b[0m\u001b[0m\n\u001b[0;32m----> 2\u001b[0;31m \u001b[0mcr_file\u001b[0m \u001b[0;34m=\u001b[0m \u001b[0mfiles\u001b[0m\u001b[0;34m.\u001b[0m\u001b[0mupload\u001b[0m\u001b[0;34m(\u001b[0m\u001b[0;34m)\u001b[0m\u001b[0;34m\u001b[0m\u001b[0;34m\u001b[0m\u001b[0m\n\u001b[0m\u001b[1;32m      3\u001b[0m \u001b[0;34m\u001b[0m\u001b[0m\n",
            "\u001b[0;31mNameError\u001b[0m: name 'files' is not defined"
          ]
        }
      ]
    },
    {
      "cell_type": "code",
      "source": [
        "cr_data = pd.read_csv(io.BytesIO(cr_file['cr_dataset.csv']), sep = ',')\n",
        "del cr_data['Unnamed: 0']"
      ],
      "metadata": {
        "id": "kVHFll-mdR3X"
      },
      "execution_count": null,
      "outputs": []
    },
    {
      "cell_type": "markdown",
      "source": [
        "Using Bar Plot to count the Class"
      ],
      "metadata": {
        "id": "N9R0WPMRzBZj"
      }
    },
    {
      "cell_type": "code",
      "source": [
        "proportions = [cr_data[cr_data['Label'] == 0].shape[0]/cr_data.shape[0],\n",
        "     cr_data[cr_data['Label'] == 1].shape[0]/cr_data.shape[0], \n",
        "     cr_data[cr_data['Label'] == 2].shape[0]/cr_data.shape[0]]\n",
        "print(proportions)\n",
        "cr_data['Label'].value_counts().plot(kind = 'bar')\n",
        "plt.xlabel('Lable Category')\n",
        "plt.ylabel('Count')\n",
        "plt.title('Visulization on count of different classes')\n",
        "plt.show"
      ],
      "metadata": {
        "id": "llHyERuxzHPY"
      },
      "execution_count": null,
      "outputs": []
    },
    {
      "cell_type": "markdown",
      "source": [
        "Tokenization + URL & Special Character & Stop Word removal + Lower Case + Lemmatization"
      ],
      "metadata": {
        "id": "34SbwFHZ0S8z"
      }
    },
    {
      "cell_type": "code",
      "source": [
        "# Tokenization\n",
        "token_cr = []\n",
        "for row in cr_data['Tweets']:\n",
        "  token_cr.append(row.split())\n",
        "cr_data['tokens'] = token_cr\n",
        "\n",
        "# URL Removal\n",
        "token_cr_no_URL = []\n",
        "for row in cr_data['tokens']:\n",
        "  token_cr_no_URL.append([t for t in row if re.sub('http.+','', t) != ''])\n",
        "cr_data['tokens_no_URL'] = token_cr_no_URL\n",
        "\n",
        "# Special Character Removal + Lower Case\n",
        "tokens_no_spec = []\n",
        "for row in cr_data['tokens_no_URL']:\n",
        "  tokens_no_spec.append([re.sub('\\W','', t).lower() for t in row \n",
        "                         if re.sub('\\W','', t) != ''])\n",
        "cr_data['tokens_no_spec'] = tokens_no_spec\n",
        "\n",
        "# Stop Word Removal\n",
        "sw = stopwords.words('english')[:100]\n",
        "token_cr_stop = []\n",
        "for row in cr_data['tokens_no_spec']:\n",
        "  token_cr_stop.append([t for t in row if t not in sw])\n",
        "cr_data['tokens_stop'] = token_cr_stop\n",
        "\n",
        "# Lemmatization\n",
        "cr_lemmatizer = WordNetLemmatizer()\n",
        "token_cr_lem = []\n",
        "\n",
        "for row in cr_data['tokens_stop']:\n",
        "  token_cr_lem.append([cr_lemmatizer.lemmatize(t) for t in row])\n",
        "cr_data['tokens_lem'] = token_cr_lem \n"
      ],
      "metadata": {
        "id": "XvFgDdYS0eg7"
      },
      "execution_count": null,
      "outputs": []
    },
    {
      "cell_type": "markdown",
      "source": [
        "Split DataSet into Test and Train, Count Vectorization and Fit Naive Bayes Model"
      ],
      "metadata": {
        "id": "IuuvhKq75P_l"
      }
    },
    {
      "cell_type": "code",
      "source": [
        "from sklearn.model_selection import train_test_split\n",
        "# Split DataSet\n",
        "X_cr, y_cr = cr_data['tokens_lem'].to_numpy(), cr_data['Label'].to_numpy()\n",
        "X_cr_train, X_cr_test, y_cr_train, y_cr_test =\\\n",
        " train_test_split(X_cr, y_cr,test_size = 0.3, random_state = 666) \n",
        "\n",
        "# Count Vectorization\n",
        "def override_fcn(doc):\n",
        "  return doc\n",
        "\n",
        "count_vec_cr = CountVectorizer(\n",
        "    analyzer='word',\n",
        "    tokenizer= override_fcn,\n",
        "    preprocessor= override_fcn,\n",
        "    token_pattern= None,\n",
        "    max_features= 1000)\n",
        "\n",
        "countV_cr_train = count_vec_cr.fit_transform(X_cr_train)\n",
        "countV_cr_test = count_vec_cr.transform(X_cr_test)\n",
        "\n",
        "# Fit NB Model\n",
        "nb_cr = MultinomialNB(alpha = 1)\n",
        "nb_cr.fit(countV_cr_train, y_cr_train)\n",
        "\n",
        "train_cr_preds = nb_cr.predict(countV_cr_train)\n",
        "print(\"Train Accuracy:\", accuracy_score(y_cr_train, train_cr_preds))\n",
        "\n",
        "test_cr_preds = nb_cr.predict(countV_cr_test)\n",
        "print(\"Test Accuracy:\", accuracy_score(y_cr_test, test_cr_preds))\n",
        "\n",
        "# Find Most Five Occurance Word in each Class\n",
        "df_cr = pd.DataFrame()\n",
        "df_cr['index 0'] = nb_cr.feature_count_[0]\n",
        "df_cr['index 1'] = nb_cr.feature_count_[1]\n",
        "df_cr['index 2'] = nb_cr.feature_count_[2]\n",
        "print(\"TOP 8 words for Class 0:\", [count_vec_cr.get_feature_names_out()[index]\n",
        "       for index in df_cr['index 0'].nlargest(8).index], \"\\n With count:\", \n",
        "        [int(count) for count in df_cr['index 0'].nlargest(8)])\n",
        "print(\"TOP 8 words for Class 1:\", [count_vec_cr.get_feature_names_out()[index] \n",
        "       for index in df_cr['index 1'].nlargest(8).index], \"\\n With count:\", \n",
        "        [int(count) for count in df_cr['index 1'].nlargest(8)])\n",
        "print(\"TOP 8 words for Class 2:\", [count_vec_cr.get_feature_names_out()[index] \n",
        "       for index in df_cr['index 2'].nlargest(8).index], \"\\n With count:\", \n",
        "        [int(count) for count in df_cr['index 2'].nlargest(8)])"
      ],
      "metadata": {
        "id": "byM1yId05L8F"
      },
      "execution_count": null,
      "outputs": []
    },
    {
      "cell_type": "code",
      "source": [
        "from sklearn.metrics import confusion_matrix\n",
        "print(\"Train Data Set Confusion:\\n\", confusion_matrix(y_cr_train, train_cr_preds))\n",
        "print(\"Test Data Set Confusion:\\n\", confusion_matrix(y_cr_test, test_cr_preds))\n"
      ],
      "metadata": {
        "id": "5CZXW9WzFXI8"
      },
      "execution_count": null,
      "outputs": []
    },
    {
      "cell_type": "markdown",
      "source": [
        "Try Using TFIDF"
      ],
      "metadata": {
        "id": "VErSVdLL9-xq"
      }
    },
    {
      "cell_type": "code",
      "source": [
        "cr_tfidf = TfidfTransformer()\n",
        "\n",
        "tf_cr_train = tfidf.fit_transform(countV_cr_train)\n",
        "tf_cr_test = tfidf.transform(countV_cr_test)\n",
        "\n",
        "nb_cr2 = MultinomialNB(alpha = 1)\n",
        "nb_cr2.fit(tf_cr_train, y_cr_train)\n",
        "\n",
        "train_cr_preds2 = nb_cr2.predict(tf_cr_train)\n",
        "print(\"Train Accuracy:\", accuracy_score(y_cr_train, train_cr_preds2))\n",
        "\n",
        "test_cr_preds2 = nb_cr2.predict(tf_cr_test)\n",
        "print(\"Test Accuracy:\", accuracy_score(y_cr_test, test_cr_preds2))\n"
      ],
      "metadata": {
        "id": "Rj0JeD9lDbHn"
      },
      "execution_count": null,
      "outputs": []
    },
    {
      "cell_type": "code",
      "source": [
        "print(\"Train Data Set Confusion:\\n\", confusion_matrix(y_cr_train, train_cr_preds2))\n",
        "print(\"Test Data Set Confusion:\\n\", confusion_matrix(y_cr_test, test_cr_preds2))\n"
      ],
      "metadata": {
        "id": "atVZa2TFGaI5"
      },
      "execution_count": null,
      "outputs": []
    },
    {
      "cell_type": "markdown",
      "source": [
        "Try Support Vector Machine"
      ],
      "metadata": {
        "id": "0kwAI3K4Da2s"
      }
    },
    {
      "cell_type": "code",
      "source": [
        "from sklearn.svm import SVC\n",
        "classifier = SVC(kernel='linear')\n",
        "classifier.fit(tf_cr_train, y_cr_train)\n",
        "\n",
        "train_cr_pred3 = classifier.predict(tf_cr_train)\n",
        "test_cr_pred3 = classifier.predict(tf_cr_test)\n",
        "print(\"Train Accuracy:\", accuracy_score(y_cr_train, train_cr_pred3))\n",
        "print(\"Train Data Set Confusion:\\n\", confusion_matrix(y_cr_train, train_cr_pred3))\n",
        "print(\"Test Accuracy:\", accuracy_score(y_cr_test, test_cr_pred3))\n",
        "print(\"Test Data Set Confusion:\\n\", confusion_matrix(y_cr_test, test_cr_pred3))"
      ],
      "metadata": {
        "id": "JSgq82JXIJoT"
      },
      "execution_count": null,
      "outputs": []
    },
    {
      "cell_type": "markdown",
      "source": [],
      "metadata": {
        "id": "Yrv4U1J9JFON"
      }
    },
    {
      "cell_type": "code",
      "source": [
        "from sklearn.tree import DecisionTreeClassifier\n",
        "from sklearn.tree import plot_tree\n",
        "clf = DecisionTreeClassifier(max_depth = 5, \n",
        "                             random_state = 666)\n",
        "clf.fit(tf_cr_train, y_cr_train)\n",
        "\n",
        "train_cr_pred4 = clf.predict(tf_cr_train)\n",
        "test_cr_pred4 = clf.predict(tf_cr_test)\n",
        "print(\"Train Accuracy:\", accuracy_score(y_cr_train, train_cr_pred4))\n",
        "print(\"Train Data Set Confusion:\\n\", confusion_matrix(y_cr_train, train_cr_pred4))\n",
        "print(\"Test Accuracy:\", accuracy_score(y_cr_test, test_cr_pred4))\n",
        "print(\"Test Data Set Confusion:\\n\", confusion_matrix(y_cr_test, test_cr_pred4))\n",
        "plt.figure(figsize=(20, 15))\n",
        "plot_tree(clf, \n",
        "          feature_names = [count_vec_cr.get_feature_names_out()[i] for i in range(0, 1000)], \n",
        "          class_names = ['0', '1', '2'], \n",
        "          filled = True,\n",
        "          rounded = True)"
      ],
      "metadata": {
        "id": "lWwDOxLcM6NS"
      },
      "execution_count": null,
      "outputs": []
    }
  ],
  "metadata": {
    "colab": {
      "provenance": [],
      "include_colab_link": true
    },
    "kernelspec": {
      "display_name": "Python 3",
      "name": "python3"
    },
    "language_info": {
      "name": "python"
    }
  },
  "nbformat": 4,
  "nbformat_minor": 0
}
